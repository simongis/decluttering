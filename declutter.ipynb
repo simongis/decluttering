{
 "cells": [
  {
   "cell_type": "markdown",
   "metadata": {},
   "source": [
    "# Decluttering\n"
   ]
  },
  {
   "cell_type": "markdown",
   "metadata": {},
   "source": [
    "### Purpose"
   ]
  },
  {
   "cell_type": "markdown",
   "metadata": {},
   "source": [
    "This notebook attempts to find potential clutter in the organisation, and send a gentle reminder to the item owners to consider removing the items. "
   ]
  },
  {
   "cell_type": "markdown",
   "metadata": {},
   "source": [
    "### Introduction"
   ]
  },
  {
   "cell_type": "markdown",
   "metadata": {},
   "source": [
    "A good sign of a healthy ArcGIS System is the velocity of new items being created and shared amongst the users.  And creating collaborative content is something that should be encouraged.  However, a knock-on effect with this is that your ArcGIS System can start to accumulate older content that may no longer be useful to the organisation.  \n",
    "\n",
    "It can be a good idea to run scheduled stocktakes to ensure the content is still being used and relevant. \n",
    "\n",
    "Some people hoarde.  They like to accumulate items regardless of if they still have any value or use within the greater organisation.  As long as this content is shared appropriately (i.e. kept private to the user), then this is not a huge issue.  However, content uses storage and this can lead to either credits or infrastructure costs.\n",
    "\n",
    "Some hoarders (myself included) may just be unaware of the items they have accumulated and are no longer being used.  \n",
    "\n",
    "As an ArcGIS System owner, it is considerate to not force decluttering your users content.  But a polite nudge might be all that is needed to challenge the item owners to consider removing their items.\n",
    "\n",
    "As an ArcGIS System owner, this notebook will help you filter down your organisations content to report on the clutter, and allow you to notify the item owners about this content.  \n",
    "\n",
    "The notebook can be run ad-hoc or scheduled to run, perhaps once a month."
   ]
  },
  {
   "cell_type": "markdown",
   "metadata": {},
   "source": [
    "## Finding the Content"
   ]
  },
  {
   "cell_type": "markdown",
   "metadata": {},
   "source": [
    "#### Connect to GIS\n",
    "The Principle of Least Privilege requires that this Notebook should connect to the GIS with the following admin privilege(s):\n",
    "\n",
    "- Allow member to view all content within your organization.\n",
    "\n",
    "Running a notebook with full admin privileges is high risk, especially if you start to modify the notebook.  Copy this notebook into an ArcGIS Developer Plan to customise and familiarise yourself before running against a production system.\n"
   ]
  },
  {
   "attachments": {
    "11111.png": {
     "image/png": "[encoded data removed]"
    }
   },
   "cell_type": "markdown",
   "metadata": {},
   "source": [
    "![11111.png](attachment:11111.png)"
   ]
  },
  {
   "cell_type": "code",
   "execution_count": 18,
   "metadata": {},
   "outputs": [
    {
     "name": "stderr",
     "output_type": "stream",
     "text": [
      "/opt/conda/lib/python3.7/site-packages/arcgis/gis/__init__.py:430: UserWarning: You are logged on as jakc with an administrator role, proceed with caution.\n",
      "  self.users.me.username)\n"
     ]
    }
   ],
   "source": [
    "from arcgis.gis import GIS\n",
    "gis = GIS(\"home\", expiration=9999)"
   ]
  },
  {
   "cell_type": "markdown",
   "metadata": {},
   "source": [
    "#### Set your thresholds\n",
    "\n",
    "Defining clutter will have mixed opinions. To attempt to quantify it, we can use three variables:\n",
    "\n",
    "1. Has this item had any significant usage recently?\n",
    "\n",
    "2. How much disk space does this item take up?\n",
    "\n",
    "3. How old is the item?"
   ]
  },
  {
   "cell_type": "code",
   "execution_count": 19,
   "metadata": {},
   "outputs": [],
   "source": [
    "# Items with less than {views} in last 60 days\n",
    "views = 10 \n",
    "# Items greater than {size_mb} in filesize\n",
    "size_mb = 5 \n",
    "#Items older than {age_days} \n",
    "age_days = 60\n",
    "\n",
    "# Table Item in ArcGIS Online to report on clutter items\n",
    "table_item = '360d491480684a6da51ecee57ab166a7' # PROD\n",
    "#table_item = '811047de84514a14a4a38080570889d9'  # TEST"
   ]
  },
  {
   "cell_type": "markdown",
   "metadata": {},
   "source": [
    "#### Find the Clutter\n",
    "\n",
    "Filter to just the hosted feature item types, as these use up the most credits.\n",
    "\n",
    "This can be removed from filter if you want to search across all items.\n",
    "\n",
    "For testing you can also add a *query=\"owner:user\"* to just look at an individuals content.\n",
    "\n",
    "Should use a query to filter out items older than *age_days*, but encountered an issue, so filtering these out a few cells later."
   ]
  },
  {
   "cell_type": "code",
   "execution_count": 20,
   "metadata": {},
   "outputs": [
    {
     "name": "stdout",
     "output_type": "stream",
     "text": [
      "#FS Items found using search: 4079\n"
     ]
    }
   ],
   "source": [
    "# Find all Hosted Feature Services\n",
    "# Can switch to using advanced_search for portal with more than 10k items.  \n",
    "all_items = gis.content.search(query=\"*\", sort_field=\"modified\", sort_order=\"desc\", item_type=\"Feature Service\", max_items = 9999)\n",
    "print(\"#FS Items found using search: \" + str(len(all_items))) "
   ]
  },
  {
   "cell_type": "markdown",
   "metadata": {},
   "source": [
    "The following cell:\n",
    "\n",
    "- Iterates through the items from above query\n",
    "- Filter list to large items (threshold set by *size_mb*)\n",
    "- Fetch the usage data on each item (# views in last 60 days)\n",
    "- Filter list to low usage items (threshold set in *views*)\n",
    "- Get some reporting metrics for each item\n",
    "- Get additional reporting metrics from the item.owner\n",
    "\n",
    "This cell can take awhile to run, depending on how many items you have in your organisation.\n",
    "\n",
    "Some items it can have issue with.  This includes table services and feature servcices from other unfederated sites/orgs."
   ]
  },
  {
   "cell_type": "code",
   "execution_count": 21,
   "metadata": {},
   "outputs": [
    {
     "data": {
      "application/vnd.jupyter.widget-view+json": {
       "model_id": "c9cc03797e764bdd94d383149f92a6c7",
       "version_major": 2,
       "version_minor": 0
      },
      "text/plain": [
       "  0%|          | 0/4079 [00:00<?, ?it/s]"
      ]
     },
     "metadata": {},
     "output_type": "display_data"
    },
    {
     "name": "stdout",
     "output_type": "stream",
     "text": [
      "Issue with Item: Speed_Volume by HF, skipping to next item\n",
      "Issue with Item: FreoPortData_gdb, skipping to next item\n",
      "Issue with Item: item_details_sample , skipping to next item\n",
      "Issue with Item: fl_details_sample, skipping to next item\n",
      "Issue with Item: VIC_POA_COVID19_TimeSeries, skipping to next item\n",
      "Expecting value: line 1 column 1 (char 0)\n",
      "Issue with Item: Test_AutoCAD_polygons, skipping to next item\n",
      "Issue with Item: 20190827AssignmentSnapshot, skipping to next item\n",
      "#FS Items that are stale: 4\n"
     ]
    }
   ],
   "source": [
    "f_item = []\n",
    "\n",
    "from datetime import datetime\n",
    "from tqdm.notebook import tqdm\n",
    "\n",
    "with tqdm(total=len(all_items)) as pbar:\n",
    "    for i in all_items:\n",
    "        \n",
    "        # Progress Bar\n",
    "        pbar.update(1)\n",
    "\n",
    "        # Create an empty dictionary for each item\n",
    "        f = {\"attributes\":{}}\n",
    "\n",
    "        # Check if old item.  Is item created more than {age_days} ago? \n",
    "        i_created_time = datetime.fromtimestamp(round(i.created / 1000))\n",
    "        # print(f\"Item Created: {i_created_time}\")\n",
    "        date_diff = datetime.utcnow() - i_created_time\n",
    "\n",
    "        # Check for old items\n",
    "        if date_diff.days < age_days:\n",
    "            # print(f\"{i.title} is NOT older than {age_days} days\")\n",
    "            #skips to next item, as this one is not considered old\n",
    "            continue \n",
    "\n",
    "        # Filter to the large filesize items\n",
    "        if i.size/1024/1024 > size_mb:       \n",
    "            # Calculate #Views in last 60 days\n",
    "            try:\n",
    "                df_u = i.usage ('60D', as_df=True)\n",
    "                total_usage_60d = df_u['Usage'].sum()\n",
    "            except:\n",
    "                print(\"Issue with Item: \" + i.title + \", skipping to next item\")\n",
    "\n",
    "            # Filter to the items with low usage over last 60 days\n",
    "            if total_usage_60d < views:  # threshold set in an earlier cell\n",
    "\n",
    "                f['attributes']['title'] = i['title']\n",
    "                f['attributes']['id'] = i['id']\n",
    "                f['attributes']['owner'] = i['owner']\n",
    "                f['attributes']['created'] = i['created']\n",
    "                f['attributes']['modified'] = i['modified']\n",
    "                f['attributes']['type'] = i['type']\n",
    "                f['attributes']['url'] = i.homepage\n",
    "                f['attributes']['access'] = i['access']\n",
    "                f['attributes']['scoreCompleteness'] = i['scoreCompleteness']\n",
    "                f['attributes']['size_mb'] = i.size/1000000\n",
    "                f['attributes']['numViews60d'] = total_usage_60d\n",
    "                f['attributes']['numViews'] = i['numViews']\n",
    "                f['attributes']['CreditsMonth'] = ((i.size/1000000)/10)*2.4\n",
    "\n",
    "                # Go get item.owner details\n",
    "                try:\n",
    "                    user = gis.users.get(username= i.owner)\n",
    "                    f['attributes']['FirstName'] = user.firstName\n",
    "                    f['attributes']['email'] = user.email\n",
    "                    f['attributes']['disabled'] = user.disabled\n",
    "                    #f_item.append(f)\n",
    "                except:\n",
    "                    #f_item.append(f)\n",
    "                    print(\"Issue getting owner for: \" + i.title + \", skipping to next item\")           \n",
    "\n",
    "                f_item.append(f)\n",
    "            \n",
    "print(\"FINISHED: #FS Items that are stale: \" + str(len(f_item)))             "
   ]
  },
  {
   "cell_type": "markdown",
   "metadata": {},
   "source": [
    "### Write the results to a table"
   ]
  },
  {
   "cell_type": "markdown",
   "metadata": {},
   "source": [
    "Preview the records:"
   ]
  },
  {
   "cell_type": "code",
   "execution_count": 26,
   "metadata": {},
   "outputs": [
    {
     "data": {
      "text/html": [
       "<div>\n",
       "<style scoped>\n",
       "    .dataframe tbody tr th:only-of-type {\n",
       "        vertical-align: middle;\n",
       "    }\n",
       "\n",
       "    .dataframe tbody tr th {\n",
       "        vertical-align: top;\n",
       "    }\n",
       "\n",
       "    .dataframe thead th {\n",
       "        text-align: right;\n",
       "    }\n",
       "</style>\n",
       "<table border=\"1\" class=\"dataframe\">\n",
       "  <thead>\n",
       "    <tr style=\"text-align: right;\">\n",
       "      <th></th>\n",
       "      <th>title</th>\n",
       "      <th>id</th>\n",
       "      <th>owner</th>\n",
       "      <th>created</th>\n",
       "      <th>modified</th>\n",
       "      <th>type</th>\n",
       "      <th>url</th>\n",
       "      <th>access</th>\n",
       "      <th>scoreCompleteness</th>\n",
       "      <th>size_mb</th>\n",
       "      <th>numViews60d</th>\n",
       "      <th>numViews</th>\n",
       "      <th>CreditsMonth</th>\n",
       "      <th>FirstName</th>\n",
       "      <th>email</th>\n",
       "      <th>disabled</th>\n",
       "    </tr>\n",
       "  </thead>\n",
       "  <tbody>\n",
       "    <tr>\n",
       "      <th>0</th>\n",
       "      <td>AU DLO_Attendance_Report</td>\n",
       "      <td>dcdf4348cc2d43518c33f825798ea44d</td>\n",
       "      <td>events_esriau</td>\n",
       "      <td>1591313299000</td>\n",
       "      <td>1591313308000</td>\n",
       "      <td>Feature Service</td>\n",
       "      <td>https://www.arcgis.com/home/item.html?id=dcdf4...</td>\n",
       "      <td>private</td>\n",
       "      <td>33</td>\n",
       "      <td>6.373376</td>\n",
       "      <td>0</td>\n",
       "      <td>0</td>\n",
       "      <td>1.529610</td>\n",
       "      <td>marketing</td>\n",
       "      <td>events@esriaustralia.com.au</td>\n",
       "      <td>False</td>\n",
       "    </tr>\n",
       "    <tr>\n",
       "      <th>1</th>\n",
       "      <td>Hub Events</td>\n",
       "      <td>3dde8457d0574479b0fbf3b0fe98ad16</td>\n",
       "      <td>jvenman_esriau</td>\n",
       "      <td>1569979640000</td>\n",
       "      <td>1569979648000</td>\n",
       "      <td>Feature Service</td>\n",
       "      <td>https://www.arcgis.com/home/item.html?id=3dde8...</td>\n",
       "      <td>org</td>\n",
       "      <td>35</td>\n",
       "      <td>5.547008</td>\n",
       "      <td>0</td>\n",
       "      <td>1</td>\n",
       "      <td>1.331282</td>\n",
       "      <td>Josh</td>\n",
       "      <td>jvenman@esriaustralia.com.au</td>\n",
       "      <td>False</td>\n",
       "    </tr>\n",
       "    <tr>\n",
       "      <th>2</th>\n",
       "      <td>Summarize EGMVenuesVictoria in VictorianSchools1</td>\n",
       "      <td>377ab3d423aa45ffbf33d3f0e42860ba</td>\n",
       "      <td>alangdonDP</td>\n",
       "      <td>1462249702000</td>\n",
       "      <td>1462249812000</td>\n",
       "      <td>Feature Service</td>\n",
       "      <td>https://www.arcgis.com/home/item.html?id=377ab...</td>\n",
       "      <td>public</td>\n",
       "      <td>53</td>\n",
       "      <td>6.938624</td>\n",
       "      <td>0</td>\n",
       "      <td>129</td>\n",
       "      <td>1.665270</td>\n",
       "      <td>andrew</td>\n",
       "      <td>alangdon@esriaustralia.com.au</td>\n",
       "      <td>True</td>\n",
       "    </tr>\n",
       "    <tr>\n",
       "      <th>3</th>\n",
       "      <td>Summarize BottleShops in School_Locations</td>\n",
       "      <td>e6d5b308b57340099963909714cf8d47</td>\n",
       "      <td>alangdonDP</td>\n",
       "      <td>1457011731000</td>\n",
       "      <td>1457011784000</td>\n",
       "      <td>Feature Service</td>\n",
       "      <td>https://www.arcgis.com/home/item.html?id=e6d5b...</td>\n",
       "      <td>public</td>\n",
       "      <td>53</td>\n",
       "      <td>6.938624</td>\n",
       "      <td>0</td>\n",
       "      <td>194</td>\n",
       "      <td>1.665270</td>\n",
       "      <td>andrew</td>\n",
       "      <td>alangdon@esriaustralia.com.au</td>\n",
       "      <td>True</td>\n",
       "    </tr>\n",
       "  </tbody>\n",
       "</table>\n",
       "</div>"
      ],
      "text/plain": [
       "                                              title  \\\n",
       "0                          AU DLO_Attendance_Report   \n",
       "1                                        Hub Events   \n",
       "2  Summarize EGMVenuesVictoria in VictorianSchools1   \n",
       "3         Summarize BottleShops in School_Locations   \n",
       "\n",
       "                                 id           owner        created  \\\n",
       "0  dcdf4348cc2d43518c33f825798ea44d   events_esriau  1591313299000   \n",
       "1  3dde8457d0574479b0fbf3b0fe98ad16  jvenman_esriau  1569979640000   \n",
       "2  377ab3d423aa45ffbf33d3f0e42860ba      alangdonDP  1462249702000   \n",
       "3  e6d5b308b57340099963909714cf8d47      alangdonDP  1457011731000   \n",
       "\n",
       "        modified             type  \\\n",
       "0  1591313308000  Feature Service   \n",
       "1  1569979648000  Feature Service   \n",
       "2  1462249812000  Feature Service   \n",
       "3  1457011784000  Feature Service   \n",
       "\n",
       "                                                 url   access  \\\n",
       "0  https://www.arcgis.com/home/item.html?id=dcdf4...  private   \n",
       "1  https://www.arcgis.com/home/item.html?id=3dde8...      org   \n",
       "2  https://www.arcgis.com/home/item.html?id=377ab...   public   \n",
       "3  https://www.arcgis.com/home/item.html?id=e6d5b...   public   \n",
       "\n",
       "   scoreCompleteness   size_mb  numViews60d  numViews  CreditsMonth  \\\n",
       "0                 33  6.373376            0         0      1.529610   \n",
       "1                 35  5.547008            0         1      1.331282   \n",
       "2                 53  6.938624            0       129      1.665270   \n",
       "3                 53  6.938624            0       194      1.665270   \n",
       "\n",
       "   FirstName                          email  disabled  \n",
       "0  marketing    events@esriaustralia.com.au     False  \n",
       "1       Josh   jvenman@esriaustralia.com.au     False  \n",
       "2     andrew  alangdon@esriaustralia.com.au      True  \n",
       "3     andrew  alangdon@esriaustralia.com.au      True  "
      ]
     },
     "metadata": {},
     "output_type": "display_data"
    }
   ],
   "source": [
    "import pandas as pd\n",
    "from IPython.display import display\n",
    "df = pd.DataFrame([d[\"attributes\"] for d in f_item])\n",
    "display(df)"
   ]
  },
  {
   "cell_type": "code",
   "execution_count": 27,
   "metadata": {},
   "outputs": [
    {
     "name": "stdout",
     "output_type": "stream",
     "text": [
      "added items 1-1000...\n",
      "Finished writing 4 items to table\n"
     ]
    }
   ],
   "source": [
    "# delete existing records in table\n",
    "dest_fl = gis.content.get(table_item).tables[0]\n",
    "dest_fl.manager.truncate()\n",
    "\n",
    "# Update the Hosted Table with the item details in chunks\n",
    "n = 1000\n",
    "\n",
    "for i in range(0, len(f_item), n):\n",
    "    chunk = f_item[i:i+n]\n",
    "    result = dest_fl.edit_features(adds=chunk)\n",
    "    print(f'added items {i+1}-{i+n}...')\n",
    "\n",
    "print(f\"Finished writing {len(f_item)} items to table\")"
   ]
  },
  {
   "cell_type": "code",
   "execution_count": 28,
   "metadata": {},
   "outputs": [
    {
     "data": {
      "text/html": [
       "<div class=\"item_container\" style=\"height: auto; overflow: hidden; border: 1px solid #cfcfcf; border-radius: 2px; background: #f6fafa; line-height: 1.21429em; padding: 10px;\">\n",
       "                    <div class=\"item_left\" style=\"width: 210px; float: left;\">\n",
       "                       <a href='https://www.arcgis.com/home/item.html?id=360d491480684a6da51ecee57ab166a7' target='_blank'>\n",
       "                        <img src='data:image/png;base64,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' width='200' height='133' class=\"itemThumbnail\">\n",
       "                       </a>\n",
       "                    </div>\n",
       "\n",
       "                    <div class=\"item_right\"     style=\"float: none; width: auto; overflow: hidden;\">\n",
       "                        <a href='https://www.arcgis.com/home/item.html?id=360d491480684a6da51ecee57ab166a7' target='_blank'><b>Do we still want these?</b>\n",
       "                        </a>\n",
       "                        <br/>Feature Services over 20MB and with less than 25 views in the last 60 days.<img src='https://www.arcgis.com/home/js/jsapi/esri/css/images/item_type_icons/table16.png' style=\"vertical-align:middle;\">Table Layer by jakc\n",
       "                        <br/>Last Modified: July 21, 2021\n",
       "                        <br/>0 comments, 118 views\n",
       "                    </div>\n",
       "                </div>\n",
       "                "
      ],
      "text/plain": [
       "<Item title:\"Do we still want these?\" type:Table Layer owner:jakc>"
      ]
     },
     "execution_count": 28,
     "metadata": {},
     "output_type": "execute_result"
    }
   ],
   "source": [
    "# Return table item\n",
    "gis.content.get(table_item)"
   ]
  },
  {
   "cell_type": "markdown",
   "metadata": {},
   "source": [
    "An idea, is to have this table showcased for your users to view and see.  \n",
    "\n",
    "As a system admin, we have this item on our home page, shared with the Organisation.\n",
    "\n",
    "Knowing that there is an item shared with the organisation that lists out stale items changes the behaviour of your users to keep on top of cleaning up their own clutter.  \n",
    "\n",
    "No-one wants to make it onto the name and shame list!"
   ]
  },
  {
   "cell_type": "markdown",
   "metadata": {},
   "source": [
    "## Notifying Users\n",
    "\n",
    "There are various ways you can notify your users.  \n",
    "- Send them an email\n",
    "- Make a comment on their item\n",
    "- Push a notification to them in the portal\n",
    "- Push a message to another service such as Slack or a private Microsoft Teams message (via Microsoft Automate)\n",
    "\n",
    "For this notebook, we are taking the approach of notifying the item owner through:\n",
    "- commenting on the item (unless it is shared public/everyone)\n",
    "- this sends them an email notification about the comment\n",
    "- make sure we only send them one comment per item to avoid spamming them every time the notebook runs.\n"
   ]
  },
  {
   "cell_type": "markdown",
   "metadata": {},
   "source": [
    "**Before running the below cells, make sure you are happy notifying your users about these items**\n",
    "\n",
    "Optional, but we want to avoid making comments on public items for the world to see.  \n",
    "The following cell filters the table down further to remove public items.  \n"
   ]
  },
  {
   "cell_type": "code",
   "execution_count": 30,
   "metadata": {},
   "outputs": [
    {
     "name": "stdout",
     "output_type": "stream",
     "text": [
      "Non public items: 2\n"
     ]
    }
   ],
   "source": [
    "stale_items = dest_fl.query(where=\"access <> 'public' \")\n",
    "print(f\"Non public items: {len(stale_items)}\")"
   ]
  },
  {
   "cell_type": "markdown",
   "metadata": {},
   "source": [
    "Define a function that will check to see if this script has already notified these item owners before.\n",
    "\n",
    "We only want to make one comment.  If they decide to ignore it, no problem.  We won't mention it again.\n"
   ]
  },
  {
   "cell_type": "code",
   "execution_count": 31,
   "metadata": {},
   "outputs": [],
   "source": [
    "def check_comments(item):\n",
    "    if not item.comments:\n",
    "        #print(f\"no comments on {item.title}, TRUE\")\n",
    "        return True\n",
    "    else:\n",
    "        comment_lst = []\n",
    "        for c in item.comments:\n",
    "            #print(c.get('comment')) \n",
    "            text = c.get('comment')\n",
    "            if text.startswith(\"⚠️\"):  \n",
    "                #print('This comment is a prior notification, FALSE')\n",
    "                comment_lst.append(False)\n",
    "                #return False\n",
    "            else:\n",
    "                #print('This comment something else')\n",
    "                comment_lst.append(True)\n",
    "    \n",
    "    # Any of the comments a prior notification?  If so, return false\n",
    "    if False in comment_lst:\n",
    "        return False\n",
    "    else:\n",
    "        return True"
   ]
  },
  {
   "cell_type": "markdown",
   "metadata": {},
   "source": [
    "Look at the items and remove any with previous notification comments, and then make comments."
   ]
  },
  {
   "cell_type": "code",
   "execution_count": 32,
   "metadata": {},
   "outputs": [
    {
     "name": "stdout",
     "output_type": "stream",
     "text": [
      "Checking comments on AU DLO_Attendance_Report...\n",
      "Checking comments on Hub Events...\n",
      "Items to Notify: 2\n",
      "3 items commented on\n",
      "FINISHED\n"
     ]
    }
   ],
   "source": [
    "remove_lst = []\n",
    "for f in stale_items.features:\n",
    "    item = gis.content.get(f.get_value('id'))\n",
    "    print(f\"Checking comments on {item.title}...\")\n",
    "    notify = check_comments(item)\n",
    "    if not notify:\n",
    "        # Build up a list of items to remove from featureset\n",
    "        remove_lst.append(f)\n",
    "    else:\n",
    "        continue\n",
    "            \n",
    "# remove 'items' from featureset that have notification comments\n",
    "for i in remove_lst:\n",
    "    stale_items.features.remove(i)\n",
    "    \n",
    "print(f\"Items to Notify: {len(stale_items)}\")\n",
    "#print(stale_items.df[\"title\"])\n",
    "\n",
    "# Add a notification comment to the items:\n",
    "\n",
    "from datetime import datetime\n",
    "\n",
    "# Exit if there are no items to notify\n",
    "if len(stale_items) == 0:\n",
    "    #print(\"No items to notify\")\n",
    "    raise SystemExit(\"Stop right there!\")\n",
    "\n",
    "for i in stale_items:\n",
    "    # Fetch some values to use in comment\n",
    "    item = gis.content.get(i.get_value('id'))\n",
    "    size = round(i.get_value('size_mb'), 2)\n",
    "    views_60d = i.get_value('numViews60d')\n",
    "    first_name = i.get_value('FirstName')\n",
    "    item.add_comment(f\"⚠️ AUTOMATED NOTIFCATION: Hi {first_name}. This item is {size} MB and has had {views_60d} views in the last 60 days.  Please consider if you still need it and if it can be deleted or a copy made offline.  If you still need it, no need to worry, it won't be deleted.\")\n",
    "    # Update ReminderSent field to todays date\n",
    "    dt_string = datetime.now().strftime('%Y-%m-%d %H:%M:%S')\n",
    "    i.set_value(field_name = \"ReminderSent\", value = dt_string)\n",
    "    results = dest_fl.edit_features(updates=stale_items)\n",
    "\n",
    "#print(f\"{len(results)} items commented on\")\n",
    "print(\"FINISHED!!!\")"
   ]
  }
 ],
 "metadata": {
  "esriNotebookRuntime": {
   "notebookRuntimeName": "ArcGIS Notebook Python 3 Standard",
   "notebookRuntimeVersion": "5.0"
  },
  "kernelspec": {
   "display_name": "Python 3",
   "language": "python",
   "name": "python3"
  },
  "language_info": {
   "codemirror_mode": {
    "name": "ipython",
    "version": 3
   },
   "file_extension": ".py",
   "mimetype": "text/x-python",
   "name": "python",
   "nbconvert_exporter": "python",
   "pygments_lexer": "ipython3",
   "version": "3.7.9"
  }
 },
 "nbformat": 4,
 "nbformat_minor": 2
}
